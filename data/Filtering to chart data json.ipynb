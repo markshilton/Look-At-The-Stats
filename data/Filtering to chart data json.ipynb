{
 "metadata": {
  "name": "",
  "signature": "sha256:19ab8ae18215f7ec852997405115bb55628b3a67f3e38deec9283229b1da395c"
 },
 "nbformat": 3,
 "nbformat_minor": 0,
 "worksheets": [
  {
   "cells": [
    {
     "cell_type": "code",
     "collapsed": false,
     "input": [
      "import json\n",
      "\n",
      "with open('seasonData_processed.json', 'r') as jsonFile:\n",
      "    data = json.load(jsonFile)"
     ],
     "language": "python",
     "metadata": {},
     "outputs": [],
     "prompt_number": 4
    },
    {
     "cell_type": "code",
     "collapsed": false,
     "input": [
      "venue = 'Hafjell'\n",
      "category = 'Men'\n",
      "sectorOrSplit = 'sector1'\n",
      "listLength = 20\n",
      "\n",
      "venueResults = list(filter(lambda race: race['venue'] == venue, data))[0]['results']\n",
      "catResults = list(filter(lambda results: results['category'] == category, venueResults))[0]['categoryResults']\n",
      "\n",
      "chartData = []\n",
      "\n",
      "for item in catResults:\n",
      "    if item[sectorOrSplit + 'Rank'] <= listLength:\n",
      "        resultSubset = dict((k, item[k]) for k in ('name', sectorOrSplit + 'Rank', sectorOrSplit, sectorOrSplit + 'Gap'))\n",
      "        resultSubset['Rank'] = int(resultSubset.pop(sectorOrSplit + 'Rank'))\n",
      "        resultSubset['Gap'] = resultSubset.pop(sectorOrSplit + 'Gap')\n",
      "        resultSubset['Time'] = resultSubset.pop(sectorOrSplit)\n",
      "        \n",
      "        chartData.append(resultSubset)\n",
      "\n",
      "chartData = sorted(chartData, key=lambda k: k['Rank'])\n",
      "\n",
      "with open('chartData.json', 'w') as outfile:\n",
      "    json.dump(chartData, outfile)\n",
      "    \n",
      "chartData"
     ],
     "language": "python",
     "metadata": {},
     "outputs": [
      {
       "metadata": {},
       "output_type": "pyout",
       "prompt_number": 42,
       "text": [
        "[{'name': 'Josh BRYCELAND', 'Time': '01:18.308', 'Gap': 0.0, 'Rank': 1},\n",
        " {'name': 'Danny HART', 'Time': '01:18.699', 'Gap': 0.391, 'Rank': 2},\n",
        " {'name': 'Gee ATHERTON', 'Time': '01:18.758', 'Gap': 0.45, 'Rank': 3},\n",
        " {'name': 'Sam HILL', 'Time': '01:19.261', 'Gap': 0.953, 'Rank': 4},\n",
        " {'name': 'Greg MINNAAR', 'Time': '01:19.627', 'Gap': 1.319, 'Rank': 5},\n",
        " {'name': 'George BRANNIGAN', 'Time': '01:19.772', 'Gap': 1.464, 'Rank': 6},\n",
        " {'name': 'Nick BEER', 'Time': '01:19.871', 'Gap': 1.563, 'Rank': 7},\n",
        " {'name': 'Neko MULALLY', 'Time': '01:20.067', 'Gap': 1.759, 'Rank': 8},\n",
        " {'name': 'Andrew NEETHLING', 'Time': '01:20.111', 'Gap': 1.803, 'Rank': 9},\n",
        " {'name': 'Steve PEAT', 'Time': '01:20.140', 'Gap': 1.832, 'Rank': 10},\n",
        " {'name': 'Troy BROSNAN', 'Time': '01:20.186', 'Gap': 1.878, 'Rank': 11},\n",
        " {'name': 'Eddie MASTERS', 'Time': '01:20.215', 'Gap': 1.907, 'Rank': 12},\n",
        " {'name': 'Matt SIMMONDS', 'Time': '01:20.229', 'Gap': 1.921, 'Rank': 13},\n",
        " {'name': 'Elliot JACKSON', 'Time': '01:20.244', 'Gap': 1.936, 'Rank': 14},\n",
        " {'name': 'Loic BRUNI', 'Time': '01:20.382', 'Gap': 2.074, 'Rank': 15},\n",
        " {'name': 'Oscar H\u00c4RNSTR\u00d6M', 'Time': '01:20.511', 'Gap': 2.203, 'Rank': 16},\n",
        " {'name': 'Sam BLENKINSOP', 'Time': '01:20.598', 'Gap': 2.29, 'Rank': 17},\n",
        " {'name': 'R\u00e9mi THIRION', 'Time': '01:20.617', 'Gap': 2.309, 'Rank': 18},\n",
        " {'name': 'Aaron GWIN', 'Time': '01:20.648', 'Gap': 2.34, 'Rank': 19},\n",
        " {'name': 'Markus PEKOLL', 'Time': '01:20.788', 'Gap': 2.48, 'Rank': 20}]"
       ]
      }
     ],
     "prompt_number": 42
    },
    {
     "cell_type": "code",
     "collapsed": false,
     "input": [],
     "language": "python",
     "metadata": {},
     "outputs": []
    }
   ],
   "metadata": {}
  }
 ]
}