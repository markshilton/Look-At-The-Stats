{
 "metadata": {
  "name": "",
  "signature": "sha256:39850b3362d56814df681878f6b9174f958720d69a62814906be0548d5114f8a"
 },
 "nbformat": 3,
 "nbformat_minor": 0,
 "worksheets": []
}